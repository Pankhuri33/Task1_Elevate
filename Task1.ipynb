{
  "nbformat": 4,
  "nbformat_minor": 0,
  "metadata": {
    "colab": {
      "provenance": [],
      "authorship_tag": "ABX9TyOxSC96bc/6Xoa9hGsFDx1q",
      "include_colab_link": true
    },
    "kernelspec": {
      "name": "python3",
      "display_name": "Python 3"
    },
    "language_info": {
      "name": "python"
    }
  },
  "cells": [
    {
      "cell_type": "markdown",
      "metadata": {
        "id": "view-in-github",
        "colab_type": "text"
      },
      "source": [
        "<a href=\"https://colab.research.google.com/github/Pankhuri33/Task1_Elevate/blob/main/Task1.ipynb\" target=\"_parent\"><img src=\"https://colab.research.google.com/assets/colab-badge.svg\" alt=\"Open In Colab\"/></a>"
      ]
    },
    {
      "cell_type": "code",
      "execution_count": 1,
      "metadata": {
        "colab": {
          "base_uri": "https://localhost:8080/"
        },
        "id": "IZ-IwYAohNli",
        "outputId": "c5d3a215-8fee-4f7d-9701-1f39a30b3c6f"
      },
      "outputs": [
        {
          "output_type": "stream",
          "name": "stdout",
          "text": [
            "✅ Cleaning complete. First few rows:\n",
            "     id  year_of_birth   education marital_status  income  kidhome  teenhome  \\\n",
            "0  2001           1984         PhD         Single   67000        1         0   \n",
            "1  2002           1995  Graduation        Married   72000        0         1   \n",
            "2  2003           1976      Master       Together   45000        0         0   \n",
            "3  2004           1980  Graduation       Divorced   58000        1         1   \n",
            "4  2005           1981       Basic          Widow   39000        1         0   \n",
            "\n",
            "  dt_customer  gender country  \n",
            "0  2013-04-09  female   India  \n",
            "1  2014-08-03    male     Usa  \n",
            "2  2012-11-15  female   India  \n",
            "3  2014-06-29    male     Usa  \n",
            "4  2013-09-10  female  Canada  \n"
          ]
        }
      ],
      "source": [
        "import pandas as pd\n",
        "import numpy as np\n",
        "\n",
        "# Simulate raw dataset (as used in the task)\n",
        "raw_data = {\n",
        "    \"ID\": np.arange(2001, 2011),\n",
        "    \"Year of Birth\": [1984, 1995, 1976, 1980, None, 1989, 1991, 1970, 1982, 1968],\n",
        "    \"Education\": [\"PhD\", \"Graduation\", \"Master\", \"Graduation\", \"Basic\", \"PhD\", \"Graduation\", \"Master\", \"PhD\", \"Graduation\"],\n",
        "    \"Marital Status\": [\"Single\", \"Married\", \"Together\", \"Divorced\", \"Widow\", \"Single\", \"Married\", \"Divorced\", \"Single\", \"Married\"],\n",
        "    \"Income \": [67000, 72000, 45000, None, 39000, 61000, None, 58000, 60000, 50000],\n",
        "    \"Kidhome\": [1, 0, 0, 1, 1, 0, 0, 1, 1, 0],\n",
        "    \"Teenhome\": [0, 1, 0, 1, 0, 1, 1, 0, 1, 0],\n",
        "    \"Dt_Customer\": [\"2013-04-09\", \"2014-08-03\", \"2012-11-15\", \"2014-06-29\", \"2013-09-10\",\n",
        "                    \"2012-10-21\", \"2013-01-05\", \"2014-03-15\", \"2013-06-01\", \"2012-12-25\"],\n",
        "    \"Gender\": [\"FEMALE\", \"Male\", \"female\", \"MALE\", \"female\", \"male\", \"Female\", \"MALE\", \"female\", \"FEMALE\"],\n",
        "    \"Country\": [\"India\", \"USA\", \"india\", \"usa\", \"Canada\", \"canada\", \"India\", \"USA\", \"canada\", \"India\"]\n",
        "}\n",
        "\n",
        "\n",
        "df = pd.DataFrame(raw_data)\n",
        "\n",
        "\n",
        "df = pd.concat([df, df.iloc[[2]]], ignore_index=True)\n",
        "\n",
        "# ---------- DATA CLEANING ----------\n",
        "\n",
        "# 1. Handle Missing Values\n",
        "df['Income '] = df['Income '].fillna(df['Income '].median())\n",
        "df['Year of Birth'] = df['Year of Birth'].fillna(df['Year of Birth'].median())\n",
        "\n",
        "# 2. Remove Duplicates\n",
        "df = df.drop_duplicates()\n",
        "\n",
        "# 3. Standardize Text\n",
        "df['Gender'] = df['Gender'].str.lower().str.strip()\n",
        "df['Country'] = df['Country'].str.title().str.strip()\n",
        "\n",
        "# 4. Convert Dates\n",
        "df['Dt_Customer'] = pd.to_datetime(df['Dt_Customer'], errors='coerce')\n",
        "\n",
        "# 5. Rename Columns\n",
        "df.columns = [col.strip().lower().replace(\" \", \"_\") for col in df.columns]\n",
        "\n",
        "# 6. Fix Data Types\n",
        "df['year_of_birth'] = df['year_of_birth'].astype(int)\n",
        "df['income'] = df['income'].astype(int)\n",
        "\n",
        "# ---------- SAVE CLEANED DATA ----------\n",
        "df.to_csv(\"task1_cleaned_data.csv\", index=False)\n",
        "\n",
        "# Optional: View result\n",
        "print(\"✅ Cleaning complete. First few rows:\")\n",
        "print(df.head())\n"
      ]
    }
  ]
}